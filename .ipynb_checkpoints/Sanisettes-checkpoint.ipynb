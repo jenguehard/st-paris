{
 "cells": [
  {
   "cell_type": "code",
   "execution_count": 2,
   "metadata": {},
   "outputs": [],
   "source": [
    "import pandas as pd\n",
    "\n",
    "df = pd.read_csv(\"sanisettesparis.csv\", delimiter=\";\")"
   ]
  },
  {
   "cell_type": "code",
   "execution_count": 5,
   "metadata": {},
   "outputs": [],
   "source": [
    "\n",
    "df[\"HORAIRE\"].replace({\"6 h - 1 h\": \"6h/1h\", \"24 h / 24\": \"24h/24h\", \"6 h - 22 h\":\"6h/22h\", \"24h/24\":\"24h/24h\",\"19 h - 7 h\":\"19h/7h\", \"10h à 22h\":\"10h/22h\"}, inplace=True)"
   ]
  },
  {
   "cell_type": "code",
   "execution_count": 13,
   "metadata": {},
   "outputs": [],
   "source": [
    "df.RELAIS_BEBE.fillna(\"Non\", inplace=True)"
   ]
  },
  {
   "cell_type": "code",
   "execution_count": 26,
   "metadata": {},
   "outputs": [
    {
     "data": {
      "text/plain": [
       "106"
      ]
     },
     "execution_count": 26,
     "metadata": {},
     "output_type": "execute_result"
    }
   ],
   "source": [
    "is_NaN = df.ARRONDISSEMENT.isnull()\n",
    "len(df.ARRONDISSEMENT[is_NaN])"
   ]
  },
  {
   "cell_type": "code",
   "execution_count": 21,
   "metadata": {},
   "outputs": [
    {
     "data": {
      "text/plain": [
       "0      False\n",
       "1      False\n",
       "2      False\n",
       "3      False\n",
       "4      False\n",
       "       ...  \n",
       "610    False\n",
       "611    False\n",
       "612    False\n",
       "613    False\n",
       "614    False\n",
       "Name: ARRONDISSEMENT, Length: 615, dtype: bool"
      ]
     },
     "execution_count": 21,
     "metadata": {},
     "output_type": "execute_result"
    }
   ],
   "source": [
    "df.ARRONDISSEMENT.isnull()"
   ]
  },
  {
   "cell_type": "code",
   "execution_count": 28,
   "metadata": {},
   "outputs": [
    {
     "name": "stdout",
     "output_type": "stream",
     "text": [
      "                      TYPE  STATUT  \\\n",
      "0                SANISETTE     NaN   \n",
      "1                SANISETTE     NaN   \n",
      "2                SANISETTE     NaN   \n",
      "3                SANISETTE     NaN   \n",
      "4                SANISETTE     NaN   \n",
      "..                     ...     ...   \n",
      "610              TOILETTES     NaN   \n",
      "611              TOILETTES     NaN   \n",
      "612                URINOIR     NaN   \n",
      "613              TOILETTES     NaN   \n",
      "614  WC PUBLICS PERMANENTS     NaN   \n",
      "\n",
      "                                               ADRESSE  ARRONDISSEMENT  \\\n",
      "0                                    RUE ROBERT BLACHE         75010.0   \n",
      "1                          face au 50 QUAI DE JEMMAPES         75010.0   \n",
      "2                   face au 4 BOULEVARD RICHARD LENOIR         75011.0   \n",
      "3               opposé au 13 BOULEVARD DE MENILMONTANT         75011.0   \n",
      "4                  face au 7 BOULEVARD DE MENILMONTANT         75011.0   \n",
      "..                                                 ...             ...   \n",
      "610               JARDIN JEAN-CLAUDE NICOLAS FORESTIER         75013.0   \n",
      "611                                 PARC ANDRE CITROEN         75015.0   \n",
      "612  JARDIN TINO ROSSI - MUSEE DE LA SCULPTURE EN P...         75005.0   \n",
      "613                           PARC DES BUTTES CHAUMONT         75019.0   \n",
      "614                                Parc Rives de Seine         75001.0   \n",
      "\n",
      "                   HORAIRE ACCES_PMR RELAIS_BEBE  \\\n",
      "0                    6h/1h       Oui         Non   \n",
      "1                  24h/24h       Oui         Non   \n",
      "2                  24h/24h       Oui         Non   \n",
      "3                   6h/22h       Oui         Non   \n",
      "4                   6h/22h       Oui         Non   \n",
      "..                     ...       ...         ...   \n",
      "610  Voir fiche équipement       Non         Non   \n",
      "611  Voir fiche équipement       Non         Non   \n",
      "612  Voir fiche équipement       Non         Non   \n",
      "613  Voir fiche équipement       Non         Non   \n",
      "614                10h/22h       Oui         Non   \n",
      "\n",
      "                                  URL_FICHE_EQUIPEMENT  \\\n",
      "0                                                  NaN   \n",
      "1                                                  NaN   \n",
      "2                                                  NaN   \n",
      "3                                                  NaN   \n",
      "4                                                  NaN   \n",
      "..                                                 ...   \n",
      "610  https://www.paris.fr/equipements/jardin-jean-c...   \n",
      "611  https://www.paris.fr/equipements/parc-andre-ci...   \n",
      "612  https://www.paris.fr/equipements/jardin-tino-r...   \n",
      "613  https://www.paris.fr/equipements/parc-des-butt...   \n",
      "614                                                NaN   \n",
      "\n",
      "                                             geo_shape  \\\n",
      "0    {\"coordinates\": [[2.363990501903871, 48.877014...   \n",
      "1    {\"coordinates\": [[2.36659750721216, 48.8700279...   \n",
      "2    {\"coordinates\": [[2.36970018383113, 48.8539831...   \n",
      "3    {\"coordinates\": [[2.389122267946412, 48.859234...   \n",
      "4    {\"coordinates\": [[2.38932122025704, 48.8588174...   \n",
      "..                                                 ...   \n",
      "610  {\"coordinates\": [[2.348072406221041, 48.818848...   \n",
      "611  {\"coordinates\": [[2.275296807339177, 48.842096...   \n",
      "612  {\"coordinates\": [[2.361597962737386, 48.846994...   \n",
      "613  {\"coordinates\": [[2.379927468657875, 48.878124...   \n",
      "614  {\"coordinates\": [[2.344286199307675, 48.857853...   \n",
      "\n",
      "                             geo_point_2d  \n",
      "0     48.87701431314924,2.363990501903871  \n",
      "1      48.87002790121456,2.36659750721216  \n",
      "2     48.853983171388194,2.36970018383113  \n",
      "3     48.85923461154838,2.389122267946412  \n",
      "4      48.85881749412743,2.38932122025704  \n",
      "..                                    ...  \n",
      "610   48.81884809913537,2.348072406221041  \n",
      "611    48.8420964537002,2.275296807339177  \n",
      "612   48.84699411929912,2.361597962737386  \n",
      "613  48.878124294408764,2.379927468657875  \n",
      "614   48.85785376524151,2.344286199307675  \n",
      "\n",
      "[615 rows x 10 columns]\n"
     ]
    }
   ],
   "source": [
    "print(df)"
   ]
  }
 ],
 "metadata": {
  "kernelspec": {
   "display_name": "Python 3",
   "language": "python",
   "name": "python3"
  },
  "language_info": {
   "codemirror_mode": {
    "name": "ipython",
    "version": 3
   },
   "file_extension": ".py",
   "mimetype": "text/x-python",
   "name": "python",
   "nbconvert_exporter": "python",
   "pygments_lexer": "ipython3",
   "version": "3.7.6"
  }
 },
 "nbformat": 4,
 "nbformat_minor": 4
}
